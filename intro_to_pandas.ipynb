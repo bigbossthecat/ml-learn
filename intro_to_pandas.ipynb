{
  "nbformat": 4,
  "nbformat_minor": 0,
  "metadata": {
    "colab": {
      "name": "intro_to_pandas.ipynb",
      "version": "0.3.2",
      "provenance": [],
      "include_colab_link": true
    },
    "kernelspec": {
      "name": "python3",
      "display_name": "Python 3"
    }
  },
  "cells": [
    {
      "cell_type": "markdown",
      "metadata": {
        "id": "view-in-github",
        "colab_type": "text"
      },
      "source": [
        "<a href=\"https://colab.research.google.com/github/bigbossthecat/ml-learn/blob/master/intro_to_pandas.ipynb\" target=\"_parent\"><img src=\"https://colab.research.google.com/assets/colab-badge.svg\" alt=\"Open In Colab\"/></a>"
      ]
    },
    {
      "metadata": {
        "id": "Ml2B40GVNF1H",
        "colab_type": "text"
      },
      "cell_type": "markdown",
      "source": [
        "**Learning Panda**"
      ]
    },
    {
      "metadata": {
        "id": "FDAONRmdNRVb",
        "colab_type": "code",
        "outputId": "8a110cbf-d279-43a5-b712-975009e6b7ad",
        "colab": {
          "base_uri": "https://localhost:8080/",
          "height": 34
        }
      },
      "cell_type": "code",
      "source": [
        "from __future__ import print_function\n",
        "\n",
        "import pandas as pd\n",
        "pd.__version__"
      ],
      "execution_count": 3,
      "outputs": [
        {
          "output_type": "execute_result",
          "data": {
            "text/plain": [
              "'0.22.0'"
            ]
          },
          "metadata": {
            "tags": []
          },
          "execution_count": 3
        }
      ]
    },
    {
      "metadata": {
        "id": "3EutRgYjQr77",
        "colab_type": "text"
      },
      "cell_type": "markdown",
      "source": [
        "**Creating a Series Object, i.e., a column and create a Table (Data frame) from multiple columns **"
      ]
    },
    {
      "metadata": {
        "id": "zMqqZ9UGQ38d",
        "colab_type": "code",
        "outputId": "c65be853-e95a-4f20-fc6d-17a38b14d348",
        "colab": {
          "base_uri": "https://localhost:8080/",
          "height": 142
        }
      },
      "cell_type": "code",
      "source": [
        "city_names = pd.Series (['San Francisco', 'San Jose', 'Sacramento'])\n",
        "population = pd.Series ([852469,1015785, 485199])\n",
        "pd.DataFrame ({'City Name': city_names, 'Population': population})"
      ],
      "execution_count": 4,
      "outputs": [
        {
          "output_type": "execute_result",
          "data": {
            "text/html": [
              "<div>\n",
              "<style scoped>\n",
              "    .dataframe tbody tr th:only-of-type {\n",
              "        vertical-align: middle;\n",
              "    }\n",
              "\n",
              "    .dataframe tbody tr th {\n",
              "        vertical-align: top;\n",
              "    }\n",
              "\n",
              "    .dataframe thead th {\n",
              "        text-align: right;\n",
              "    }\n",
              "</style>\n",
              "<table border=\"1\" class=\"dataframe\">\n",
              "  <thead>\n",
              "    <tr style=\"text-align: right;\">\n",
              "      <th></th>\n",
              "      <th>City Name</th>\n",
              "      <th>Population</th>\n",
              "    </tr>\n",
              "  </thead>\n",
              "  <tbody>\n",
              "    <tr>\n",
              "      <th>0</th>\n",
              "      <td>San Francisco</td>\n",
              "      <td>852469</td>\n",
              "    </tr>\n",
              "    <tr>\n",
              "      <th>1</th>\n",
              "      <td>San Jose</td>\n",
              "      <td>1015785</td>\n",
              "    </tr>\n",
              "    <tr>\n",
              "      <th>2</th>\n",
              "      <td>Sacramento</td>\n",
              "      <td>485199</td>\n",
              "    </tr>\n",
              "  </tbody>\n",
              "</table>\n",
              "</div>"
            ],
            "text/plain": [
              "       City Name  Population\n",
              "0  San Francisco      852469\n",
              "1       San Jose     1015785\n",
              "2     Sacramento      485199"
            ]
          },
          "metadata": {
            "tags": []
          },
          "execution_count": 4
        }
      ]
    },
    {
      "metadata": {
        "id": "2bJrChyaTJt_",
        "colab_type": "text"
      },
      "cell_type": "markdown",
      "source": [
        "**Get California Housing Data**"
      ]
    },
    {
      "metadata": {
        "id": "VM8e0slmTQ_a",
        "colab_type": "code",
        "colab": {
          "base_uri": "https://localhost:8080/",
          "height": 2176
        },
        "outputId": "dfeeb6f4-aa72-4ad4-f469-b260d7cf2a29"
      },
      "cell_type": "code",
      "source": [
        "california_housing_dataframe = pd.read_csv(\"https://download.mlcc.google.com/mledu-datasets/california_housing_train.csv\", sep=\",\")\n",
        "california_housing_dataframe.describe                                    "
      ],
      "execution_count": 6,
      "outputs": [
        {
          "output_type": "execute_result",
          "data": {
            "text/plain": [
              "<bound method NDFrame.describe of        longitude  latitude  housing_median_age  total_rooms  total_bedrooms  \\\n",
              "0        -114.31     34.19                15.0       5612.0          1283.0   \n",
              "1        -114.47     34.40                19.0       7650.0          1901.0   \n",
              "2        -114.56     33.69                17.0        720.0           174.0   \n",
              "3        -114.57     33.64                14.0       1501.0           337.0   \n",
              "4        -114.57     33.57                20.0       1454.0           326.0   \n",
              "5        -114.58     33.63                29.0       1387.0           236.0   \n",
              "6        -114.58     33.61                25.0       2907.0           680.0   \n",
              "7        -114.59     34.83                41.0        812.0           168.0   \n",
              "8        -114.59     33.61                34.0       4789.0          1175.0   \n",
              "9        -114.60     34.83                46.0       1497.0           309.0   \n",
              "10       -114.60     33.62                16.0       3741.0           801.0   \n",
              "11       -114.60     33.60                21.0       1988.0           483.0   \n",
              "12       -114.61     34.84                48.0       1291.0           248.0   \n",
              "13       -114.61     34.83                31.0       2478.0           464.0   \n",
              "14       -114.63     32.76                15.0       1448.0           378.0   \n",
              "15       -114.65     34.89                17.0       2556.0           587.0   \n",
              "16       -114.65     33.60                28.0       1678.0           322.0   \n",
              "17       -114.65     32.79                21.0         44.0            33.0   \n",
              "18       -114.66     32.74                17.0       1388.0           386.0   \n",
              "19       -114.67     33.92                17.0         97.0            24.0   \n",
              "20       -114.68     33.49                20.0       1491.0           360.0   \n",
              "21       -114.73     33.43                24.0        796.0           243.0   \n",
              "22       -114.94     34.55                20.0        350.0            95.0   \n",
              "23       -114.98     33.82                15.0        644.0           129.0   \n",
              "24       -115.22     33.54                18.0       1706.0           397.0   \n",
              "25       -115.32     32.82                34.0        591.0           139.0   \n",
              "26       -115.37     32.82                30.0       1602.0           322.0   \n",
              "27       -115.37     32.82                14.0       1276.0           270.0   \n",
              "28       -115.37     32.81                32.0        741.0           191.0   \n",
              "29       -115.37     32.81                23.0       1458.0           294.0   \n",
              "...          ...       ...                 ...          ...             ...   \n",
              "16970    -124.17     40.80                52.0       1606.0           419.0   \n",
              "16971    -124.17     40.80                52.0       1557.0           344.0   \n",
              "16972    -124.17     40.79                43.0       2285.0           479.0   \n",
              "16973    -124.17     40.78                39.0       1606.0           330.0   \n",
              "16974    -124.17     40.77                30.0       1895.0           366.0   \n",
              "16975    -124.17     40.76                26.0       1776.0           361.0   \n",
              "16976    -124.17     40.75                13.0       2171.0           339.0   \n",
              "16977    -124.17     40.62                32.0       1595.0           309.0   \n",
              "16978    -124.18     40.79                39.0       1836.0           352.0   \n",
              "16979    -124.18     40.78                37.0       1453.0           293.0   \n",
              "16980    -124.18     40.78                34.0       1592.0           364.0   \n",
              "16981    -124.18     40.78                33.0       1076.0           222.0   \n",
              "16982    -124.18     40.62                35.0        952.0           178.0   \n",
              "16983    -124.19     41.78                15.0       3140.0           714.0   \n",
              "16984    -124.19     40.78                37.0       1371.0           319.0   \n",
              "16985    -124.19     40.77                30.0       2975.0           634.0   \n",
              "16986    -124.19     40.73                21.0       5694.0          1056.0   \n",
              "16987    -124.21     41.77                17.0       3461.0           722.0   \n",
              "16988    -124.21     41.75                20.0       3810.0           787.0   \n",
              "16989    -124.21     40.75                32.0       1218.0           331.0   \n",
              "16990    -124.22     41.73                28.0       3003.0           699.0   \n",
              "16991    -124.23     41.75                11.0       3159.0           616.0   \n",
              "16992    -124.23     40.81                52.0       1112.0           209.0   \n",
              "16993    -124.23     40.54                52.0       2694.0           453.0   \n",
              "16994    -124.25     40.28                32.0       1430.0           419.0   \n",
              "16995    -124.26     40.58                52.0       2217.0           394.0   \n",
              "16996    -124.27     40.69                36.0       2349.0           528.0   \n",
              "16997    -124.30     41.84                17.0       2677.0           531.0   \n",
              "16998    -124.30     41.80                19.0       2672.0           552.0   \n",
              "16999    -124.35     40.54                52.0       1820.0           300.0   \n",
              "\n",
              "       population  households  median_income  median_house_value  \n",
              "0          1015.0       472.0         1.4936             66900.0  \n",
              "1          1129.0       463.0         1.8200             80100.0  \n",
              "2           333.0       117.0         1.6509             85700.0  \n",
              "3           515.0       226.0         3.1917             73400.0  \n",
              "4           624.0       262.0         1.9250             65500.0  \n",
              "5           671.0       239.0         3.3438             74000.0  \n",
              "6          1841.0       633.0         2.6768             82400.0  \n",
              "7           375.0       158.0         1.7083             48500.0  \n",
              "8          3134.0      1056.0         2.1782             58400.0  \n",
              "9           787.0       271.0         2.1908             48100.0  \n",
              "10         2434.0       824.0         2.6797             86500.0  \n",
              "11         1182.0       437.0         1.6250             62000.0  \n",
              "12          580.0       211.0         2.1571             48600.0  \n",
              "13         1346.0       479.0         3.2120             70400.0  \n",
              "14          949.0       300.0         0.8585             45000.0  \n",
              "15         1005.0       401.0         1.6991             69100.0  \n",
              "16          666.0       256.0         2.9653             94900.0  \n",
              "17           64.0        27.0         0.8571             25000.0  \n",
              "18          775.0       320.0         1.2049             44000.0  \n",
              "19           29.0        15.0         1.2656             27500.0  \n",
              "20         1135.0       303.0         1.6395             44400.0  \n",
              "21          227.0       139.0         0.8964             59200.0  \n",
              "22          119.0        58.0         1.6250             50000.0  \n",
              "23          137.0        52.0         3.2097             71300.0  \n",
              "24         3424.0       283.0         1.6250             53500.0  \n",
              "25          327.0        89.0         3.6528            100000.0  \n",
              "26         1130.0       335.0         3.5735             71100.0  \n",
              "27          867.0       261.0         1.9375             80900.0  \n",
              "28          623.0       169.0         1.7604             68600.0  \n",
              "29          866.0       275.0         2.3594             74300.0  \n",
              "...           ...         ...            ...                 ...  \n",
              "16970       891.0       367.0         1.5850             75500.0  \n",
              "16971       758.0       319.0         1.8529             62500.0  \n",
              "16972      1169.0       482.0         1.9688             70500.0  \n",
              "16973       731.0       327.0         1.6369             68300.0  \n",
              "16974       990.0       359.0         2.2227             81300.0  \n",
              "16975       992.0       380.0         2.8056             82800.0  \n",
              "16976       951.0       353.0         4.8516            116100.0  \n",
              "16977       706.0       277.0         2.8958             86400.0  \n",
              "16978       883.0       337.0         1.7450             70500.0  \n",
              "16979       867.0       310.0         2.5536             70200.0  \n",
              "16980       950.0       317.0         2.1607             67000.0  \n",
              "16981       656.0       236.0         2.5096             72200.0  \n",
              "16982       480.0       179.0         3.0536            107000.0  \n",
              "16983      1645.0       640.0         1.6654             74600.0  \n",
              "16984       640.0       260.0         1.8242             70000.0  \n",
              "16985      1367.0       583.0         2.4420             69000.0  \n",
              "16986      2907.0       972.0         3.5363             90100.0  \n",
              "16987      1947.0       647.0         2.5795             68400.0  \n",
              "16988      1993.0       721.0         2.0074             66900.0  \n",
              "16989       620.0       268.0         1.6528             58100.0  \n",
              "16990      1530.0       653.0         1.7038             78300.0  \n",
              "16991      1343.0       479.0         2.4805             73200.0  \n",
              "16992       544.0       172.0         3.3462             50800.0  \n",
              "16993      1152.0       435.0         3.0806            106700.0  \n",
              "16994       434.0       187.0         1.9417             76100.0  \n",
              "16995       907.0       369.0         2.3571            111400.0  \n",
              "16996      1194.0       465.0         2.5179             79000.0  \n",
              "16997      1244.0       456.0         3.0313            103600.0  \n",
              "16998      1298.0       478.0         1.9797             85800.0  \n",
              "16999       806.0       270.0         3.0147             94600.0  \n",
              "\n",
              "[17000 rows x 9 columns]>"
            ]
          },
          "metadata": {
            "tags": []
          },
          "execution_count": 6
        }
      ]
    },
    {
      "metadata": {
        "id": "PFxCAaAcUUKs",
        "colab_type": "code",
        "colab": {
          "base_uri": "https://localhost:8080/",
          "height": 2176
        },
        "outputId": "f169060e-fa7b-4995-ada8-65522ae94dd6"
      },
      "cell_type": "code",
      "source": [
        "california_housing_dataframe.head"
      ],
      "execution_count": 7,
      "outputs": [
        {
          "output_type": "execute_result",
          "data": {
            "text/plain": [
              "<bound method NDFrame.head of        longitude  latitude  housing_median_age  total_rooms  total_bedrooms  \\\n",
              "0        -114.31     34.19                15.0       5612.0          1283.0   \n",
              "1        -114.47     34.40                19.0       7650.0          1901.0   \n",
              "2        -114.56     33.69                17.0        720.0           174.0   \n",
              "3        -114.57     33.64                14.0       1501.0           337.0   \n",
              "4        -114.57     33.57                20.0       1454.0           326.0   \n",
              "5        -114.58     33.63                29.0       1387.0           236.0   \n",
              "6        -114.58     33.61                25.0       2907.0           680.0   \n",
              "7        -114.59     34.83                41.0        812.0           168.0   \n",
              "8        -114.59     33.61                34.0       4789.0          1175.0   \n",
              "9        -114.60     34.83                46.0       1497.0           309.0   \n",
              "10       -114.60     33.62                16.0       3741.0           801.0   \n",
              "11       -114.60     33.60                21.0       1988.0           483.0   \n",
              "12       -114.61     34.84                48.0       1291.0           248.0   \n",
              "13       -114.61     34.83                31.0       2478.0           464.0   \n",
              "14       -114.63     32.76                15.0       1448.0           378.0   \n",
              "15       -114.65     34.89                17.0       2556.0           587.0   \n",
              "16       -114.65     33.60                28.0       1678.0           322.0   \n",
              "17       -114.65     32.79                21.0         44.0            33.0   \n",
              "18       -114.66     32.74                17.0       1388.0           386.0   \n",
              "19       -114.67     33.92                17.0         97.0            24.0   \n",
              "20       -114.68     33.49                20.0       1491.0           360.0   \n",
              "21       -114.73     33.43                24.0        796.0           243.0   \n",
              "22       -114.94     34.55                20.0        350.0            95.0   \n",
              "23       -114.98     33.82                15.0        644.0           129.0   \n",
              "24       -115.22     33.54                18.0       1706.0           397.0   \n",
              "25       -115.32     32.82                34.0        591.0           139.0   \n",
              "26       -115.37     32.82                30.0       1602.0           322.0   \n",
              "27       -115.37     32.82                14.0       1276.0           270.0   \n",
              "28       -115.37     32.81                32.0        741.0           191.0   \n",
              "29       -115.37     32.81                23.0       1458.0           294.0   \n",
              "...          ...       ...                 ...          ...             ...   \n",
              "16970    -124.17     40.80                52.0       1606.0           419.0   \n",
              "16971    -124.17     40.80                52.0       1557.0           344.0   \n",
              "16972    -124.17     40.79                43.0       2285.0           479.0   \n",
              "16973    -124.17     40.78                39.0       1606.0           330.0   \n",
              "16974    -124.17     40.77                30.0       1895.0           366.0   \n",
              "16975    -124.17     40.76                26.0       1776.0           361.0   \n",
              "16976    -124.17     40.75                13.0       2171.0           339.0   \n",
              "16977    -124.17     40.62                32.0       1595.0           309.0   \n",
              "16978    -124.18     40.79                39.0       1836.0           352.0   \n",
              "16979    -124.18     40.78                37.0       1453.0           293.0   \n",
              "16980    -124.18     40.78                34.0       1592.0           364.0   \n",
              "16981    -124.18     40.78                33.0       1076.0           222.0   \n",
              "16982    -124.18     40.62                35.0        952.0           178.0   \n",
              "16983    -124.19     41.78                15.0       3140.0           714.0   \n",
              "16984    -124.19     40.78                37.0       1371.0           319.0   \n",
              "16985    -124.19     40.77                30.0       2975.0           634.0   \n",
              "16986    -124.19     40.73                21.0       5694.0          1056.0   \n",
              "16987    -124.21     41.77                17.0       3461.0           722.0   \n",
              "16988    -124.21     41.75                20.0       3810.0           787.0   \n",
              "16989    -124.21     40.75                32.0       1218.0           331.0   \n",
              "16990    -124.22     41.73                28.0       3003.0           699.0   \n",
              "16991    -124.23     41.75                11.0       3159.0           616.0   \n",
              "16992    -124.23     40.81                52.0       1112.0           209.0   \n",
              "16993    -124.23     40.54                52.0       2694.0           453.0   \n",
              "16994    -124.25     40.28                32.0       1430.0           419.0   \n",
              "16995    -124.26     40.58                52.0       2217.0           394.0   \n",
              "16996    -124.27     40.69                36.0       2349.0           528.0   \n",
              "16997    -124.30     41.84                17.0       2677.0           531.0   \n",
              "16998    -124.30     41.80                19.0       2672.0           552.0   \n",
              "16999    -124.35     40.54                52.0       1820.0           300.0   \n",
              "\n",
              "       population  households  median_income  median_house_value  \n",
              "0          1015.0       472.0         1.4936             66900.0  \n",
              "1          1129.0       463.0         1.8200             80100.0  \n",
              "2           333.0       117.0         1.6509             85700.0  \n",
              "3           515.0       226.0         3.1917             73400.0  \n",
              "4           624.0       262.0         1.9250             65500.0  \n",
              "5           671.0       239.0         3.3438             74000.0  \n",
              "6          1841.0       633.0         2.6768             82400.0  \n",
              "7           375.0       158.0         1.7083             48500.0  \n",
              "8          3134.0      1056.0         2.1782             58400.0  \n",
              "9           787.0       271.0         2.1908             48100.0  \n",
              "10         2434.0       824.0         2.6797             86500.0  \n",
              "11         1182.0       437.0         1.6250             62000.0  \n",
              "12          580.0       211.0         2.1571             48600.0  \n",
              "13         1346.0       479.0         3.2120             70400.0  \n",
              "14          949.0       300.0         0.8585             45000.0  \n",
              "15         1005.0       401.0         1.6991             69100.0  \n",
              "16          666.0       256.0         2.9653             94900.0  \n",
              "17           64.0        27.0         0.8571             25000.0  \n",
              "18          775.0       320.0         1.2049             44000.0  \n",
              "19           29.0        15.0         1.2656             27500.0  \n",
              "20         1135.0       303.0         1.6395             44400.0  \n",
              "21          227.0       139.0         0.8964             59200.0  \n",
              "22          119.0        58.0         1.6250             50000.0  \n",
              "23          137.0        52.0         3.2097             71300.0  \n",
              "24         3424.0       283.0         1.6250             53500.0  \n",
              "25          327.0        89.0         3.6528            100000.0  \n",
              "26         1130.0       335.0         3.5735             71100.0  \n",
              "27          867.0       261.0         1.9375             80900.0  \n",
              "28          623.0       169.0         1.7604             68600.0  \n",
              "29          866.0       275.0         2.3594             74300.0  \n",
              "...           ...         ...            ...                 ...  \n",
              "16970       891.0       367.0         1.5850             75500.0  \n",
              "16971       758.0       319.0         1.8529             62500.0  \n",
              "16972      1169.0       482.0         1.9688             70500.0  \n",
              "16973       731.0       327.0         1.6369             68300.0  \n",
              "16974       990.0       359.0         2.2227             81300.0  \n",
              "16975       992.0       380.0         2.8056             82800.0  \n",
              "16976       951.0       353.0         4.8516            116100.0  \n",
              "16977       706.0       277.0         2.8958             86400.0  \n",
              "16978       883.0       337.0         1.7450             70500.0  \n",
              "16979       867.0       310.0         2.5536             70200.0  \n",
              "16980       950.0       317.0         2.1607             67000.0  \n",
              "16981       656.0       236.0         2.5096             72200.0  \n",
              "16982       480.0       179.0         3.0536            107000.0  \n",
              "16983      1645.0       640.0         1.6654             74600.0  \n",
              "16984       640.0       260.0         1.8242             70000.0  \n",
              "16985      1367.0       583.0         2.4420             69000.0  \n",
              "16986      2907.0       972.0         3.5363             90100.0  \n",
              "16987      1947.0       647.0         2.5795             68400.0  \n",
              "16988      1993.0       721.0         2.0074             66900.0  \n",
              "16989       620.0       268.0         1.6528             58100.0  \n",
              "16990      1530.0       653.0         1.7038             78300.0  \n",
              "16991      1343.0       479.0         2.4805             73200.0  \n",
              "16992       544.0       172.0         3.3462             50800.0  \n",
              "16993      1152.0       435.0         3.0806            106700.0  \n",
              "16994       434.0       187.0         1.9417             76100.0  \n",
              "16995       907.0       369.0         2.3571            111400.0  \n",
              "16996      1194.0       465.0         2.5179             79000.0  \n",
              "16997      1244.0       456.0         3.0313            103600.0  \n",
              "16998      1298.0       478.0         1.9797             85800.0  \n",
              "16999       806.0       270.0         3.0147             94600.0  \n",
              "\n",
              "[17000 rows x 9 columns]>"
            ]
          },
          "metadata": {
            "tags": []
          },
          "execution_count": 7
        }
      ]
    },
    {
      "metadata": {
        "id": "btwwHaOmUfyt",
        "colab_type": "code",
        "colab": {
          "base_uri": "https://localhost:8080/",
          "height": 396
        },
        "outputId": "b2e30410-174f-445d-fec5-f5d48df23c6c"
      },
      "cell_type": "code",
      "source": [
        "california_housing_dataframe.hist('housing_median_age')"
      ],
      "execution_count": 9,
      "outputs": [
        {
          "output_type": "execute_result",
          "data": {
            "text/plain": [
              "array([[<matplotlib.axes._subplots.AxesSubplot object at 0x7f1257114c50>]],\n",
              "      dtype=object)"
            ]
          },
          "metadata": {
            "tags": []
          },
          "execution_count": 9
        },
        {
          "output_type": "display_data",
          "data": {
            "image/png": "[encoded data removed]",
            "text/plain": [
              "<matplotlib.figure.Figure at 0x7f12578e3e80>"
            ]
          },
          "metadata": {
            "tags": []
          }
        }
      ]
    }
  ]
}